{
 "cells": [
  {
   "cell_type": "code",
   "execution_count": 14,
   "metadata": {},
   "outputs": [],
   "source": [
    "import numpy as np\n",
    "import os\n",
    "data_dir = '../data/data_selected/'"
   ]
  },
  {
   "cell_type": "code",
   "execution_count": 15,
   "metadata": {},
   "outputs": [],
   "source": [
    "x_dataset = []\n",
    "u_dataset = []\n",
    "\n",
    "for item in os.listdir(data_dir):\n",
    "    data_file_path = os.path.join(data_dir, item)\n",
    "\n",
    "    # Check if the file is a directory\n",
    "    if data_file_path.endswith('.npy') and os.path.exists(data_file_path):\n",
    "        data_dict = np.load(data_file_path, allow_pickle=True).item()\n",
    "        x_data = data_dict['signals'][:, :-6]\n",
    "        if x_data.shape[0]!= 3417 or x_data.shape[1]!= 68:\n",
    "            print(\"cannot load {data_file_path}\")\n",
    "        uu_data = data_dict['signals'][:, -4:]\n",
    "        ErrorType = data_dict['ErrorType']\n",
    "        u_data = np.concatenate((uu_data,np.tile( ErrorType, (len(x_data), 1))), axis=1)\n",
    "        x_dataset.append(x_data)\n",
    "        u_dataset.append(u_data)\n"
   ]
  },
  {
   "cell_type": "code",
   "execution_count": 17,
   "metadata": {},
   "outputs": [
    {
     "data": {
      "text/plain": [
       "array([[1.28852548e+03, 8.98852626e+02, 5.88647472e+03, 6.39938365e+03,\n",
       "        2.00000000e+00],\n",
       "       [1.28852548e+03, 8.98852626e+02, 5.88647472e+03, 6.39938365e+03,\n",
       "        2.00000000e+00],\n",
       "       [1.28852548e+03, 8.98852626e+02, 5.88647472e+03, 6.39938365e+03,\n",
       "        2.00000000e+00],\n",
       "       ...,\n",
       "       [9.56989015e+02, 7.55590931e+02, 5.80387944e+03, 6.79754136e+03,\n",
       "        2.00000000e+00],\n",
       "       [9.56989015e+02, 7.55590931e+02, 5.80387944e+03, 6.79754136e+03,\n",
       "        2.00000000e+00],\n",
       "       [9.56989015e+02, 1.21678402e+03, 5.80387944e+03, 6.79754136e+03,\n",
       "        2.00000000e+00]])"
      ]
     },
     "execution_count": 17,
     "metadata": {},
     "output_type": "execute_result"
    }
   ],
   "source": [
    "u_dataset[0]"
   ]
  },
  {
   "cell_type": "code",
   "execution_count": 23,
   "metadata": {},
   "outputs": [
    {
     "ename": "IndexError",
     "evalue": "list index out of range",
     "output_type": "error",
     "traceback": [
      "\u001b[0;31m---------------------------------------------------------------------------\u001b[0m",
      "\u001b[0;31mIndexError\u001b[0m                                Traceback (most recent call last)",
      "Cell \u001b[0;32mIn[23], line 1\u001b[0m\n\u001b[0;32m----> 1\u001b[0m \u001b[43mu_dataset\u001b[49m\u001b[43m[\u001b[49m\u001b[38;5;241;43m6\u001b[39;49m\u001b[43m]\u001b[49m\n",
      "\u001b[0;31mIndexError\u001b[0m: list index out of range"
     ]
    }
   ],
   "source": [
    "u_dataset[6]"
   ]
  },
  {
   "cell_type": "code",
   "execution_count": null,
   "metadata": {},
   "outputs": [],
   "source": []
  }
 ],
 "metadata": {
  "kernelspec": {
   "display_name": "torch",
   "language": "python",
   "name": "python3"
  },
  "language_info": {
   "codemirror_mode": {
    "name": "ipython",
    "version": 3
   },
   "file_extension": ".py",
   "mimetype": "text/x-python",
   "name": "python",
   "nbconvert_exporter": "python",
   "pygments_lexer": "ipython3",
   "version": "3.9.17"
  }
 },
 "nbformat": 4,
 "nbformat_minor": 2
}
